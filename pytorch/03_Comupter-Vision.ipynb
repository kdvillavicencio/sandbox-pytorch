{
 "cells": [
  {
   "attachments": {},
   "cell_type": "markdown",
   "metadata": {},
   "source": [
    "# PyTorch Computer Vision & CNN\n",
    "#coding/python #coding/deeplearning\n",
    "\n",
    "**References**\n",
    "- [YT: Learn PyTorch for Deep Learing](https://youtu.be/Z_ikDlimN6A?t=50419)\n",
    "- [LearnPyTorch.io](https://www.learnpytorch.io/03_pytorch_computer_vision/)"
   ]
  },
  {
   "attachments": {},
   "cell_type": "markdown",
   "metadata": {},
   "source": [
    "## 01. Introduction to computer vision\n",
    "**Potential Applications**\n",
    "- BCC - dog or cat?\n",
    "- MCC - what kind of food?\n",
    "- object detection\n",
    "- segmentation\n",
    "\n",
    "**Outline**\n",
    "- getting vision dataset using `torchvision.datasets`\n",
    "- architecture of CNN\n",
    "- E2E multi-class image classification\n",
    "- steps in modeling with CNN\n",
    "  - create CNN model\n",
    "  - pick loss & optimizer\n",
    "  - train a model\n",
    "  - evaluate a model"
   ]
  },
  {
   "attachments": {},
   "cell_type": "markdown",
   "metadata": {},
   "source": [
    "## 02. Computer vision input and outputs\n",
    "- CNN usually used in image data\n",
    "\n",
    "**Method**\n",
    "- numerically represent images as tensors\n",
    "  - (NHWC): color channels last\n",
    "  - (NCHW): color channels first\n",
    "- feed into ML algorithm\n",
    "- probabilites\n",
    "\n",
    "**Steps**\n",
    "1. Data Preperation\n",
    "  - `torchvision.transforms`\n",
    "  - `torch.utils.data.Dataset`\n",
    "  - `torch.utils.data.DataLoader`\n",
    "2. Build Model\n",
    "  - `torch.nn`\n",
    "  - `torch.nn.Module`\n",
    "  - `torchvision.models`\n",
    "3. Loss Fn & Optimizer\n",
    "  - `torch.optim`\n",
    "4. Evaluate Model\n",
    "  - `torchmetrics`\n",
    "5. Improve via Experimentation\n",
    "  - `torch.utils.tensorboard`"
   ]
  },
  {
   "attachments": {},
   "cell_type": "markdown",
   "metadata": {},
   "source": [
    "## 03. What is a convolutional neural network?\n",
    "**Architecture**\n",
    "- input image\n",
    "  - target image\n",
    "- input layer\n",
    "  - processed target image\n",
    "  - `input_shape = [batch_size, ht, wd, color_channels]`\n",
    "- convolution layer\n",
    "  - extracts/learns features from target image\n",
    "  - `torch.nn.ConvXd()`\n",
    "- hidden activation/non-linear activation\n",
    "  - adds non-linearity\n",
    "  - usually `torch.nn.ReLU()`\n",
    "- pooling layer\n",
    "  - reduces dimensionality of learned features\n",
    "  - usually `torch.nn.MaxPool2d()`\n",
    "- output layer/linear layer\n",
    "  - takes learned features and outputs into shape of target label\n",
    "  - `torch.nn.Linear(out_features=[output-shape])\n",
    "- output activation\n",
    "  - convert output logits into prediction probabilities\n"
   ]
  },
  {
   "attachments": {},
   "cell_type": "markdown",
   "metadata": {},
   "source": [
    "## 04. TorchVision\n",
    "**Computer Vision libraries**\n",
    "- `torchvision`\n",
    "- `torchvision.datasets`\n",
    "- `torchvision.models`\n",
    "- `torchvision.transforms`\n",
    "- `torch.utils.data.Dataset`\n",
    "- `torch.utils.data.DataLoader`"
   ]
  },
  {
   "cell_type": "code",
   "execution_count": 113,
   "metadata": {},
   "outputs": [],
   "source": [
    "# Import Libraries\n",
    "import torch\n",
    "from torch import nn\n",
    "\n",
    "import torchvision\n",
    "from torchvision import datasets\n",
    "from torchvision import transforms\n",
    "from torchvision.transforms import ToTensor\n",
    "\n",
    "import matplotlib.pyplot as plt\n"
   ]
  },
  {
   "attachments": {},
   "cell_type": "markdown",
   "metadata": {},
   "source": [
    "## 05. Getting a computer vision dataset\n",
    "Dataset: FashionMNIST\n"
   ]
  },
  {
   "cell_type": "code",
   "execution_count": 114,
   "metadata": {},
   "outputs": [],
   "source": [
    "# Setup Training Data\n",
    "train_data = datasets.FashionMNIST\n",
    "train_data = datasets.FashionMNIST(\n",
    "    root='data',\n",
    "    train=True, \n",
    "    download=True,\n",
    "    transform=ToTensor(), # Transforms image or ndarray to tensor\n",
    "    target_transform=None,\n",
    ")\n",
    "\n",
    "test_data = datasets.FashionMNIST(\n",
    "    root='data',\n",
    "    train=False, \n",
    "    download=True,\n",
    "    transform=ToTensor(),\n",
    "    target_transform=None,\n",
    ")"
   ]
  },
  {
   "cell_type": "code",
   "execution_count": 115,
   "metadata": {},
   "outputs": [
    {
     "name": "stdout",
     "output_type": "stream",
     "text": [
      "len(train_data), len(test_data)\n",
      "['T-shirt/top', 'Trouser', 'Pullover', 'Dress', 'Coat', 'Sandal', 'Shirt', 'Sneaker', 'Bag', 'Ankle boot']\n"
     ]
    }
   ],
   "source": [
    "image, label = train_data[0]\n",
    "class_names = train_data.classes\n",
    "print(f\"len(train_data), len(test_data)\")\n",
    "print(f\"{class_names}\")"
   ]
  },
  {
   "cell_type": "code",
   "execution_count": 116,
   "metadata": {},
   "outputs": [
    {
     "data": {
      "text/plain": [
       "Text(0.5, 1.0, 'Ankle boot')"
      ]
     },
     "execution_count": 116,
     "metadata": {},
     "output_type": "execute_result"
    },
    {
     "data": {
      "image/png": "[encoded data removed]",
      "text/plain": [
       "<Figure size 640x480 with 1 Axes>"
      ]
     },
     "metadata": {},
     "output_type": "display_data"
    }
   ],
   "source": [
    "# Visualize data\n",
    "plt.imshow(image.squeeze(), cmap=\"gray\")\n",
    "plt.title(class_names[label])\n",
    "\n",
    "# # Plot more images\n",
    "# torch.manual_seed(42)\n",
    "# fig = plt.figure(figsize=(9,9))\n",
    "# rows, cols = 4,4\n",
    "# for i in range(1, rows*cols+1):\n",
    "#     random_idx = torch.randint(0)"
   ]
  },
  {
   "cell_type": "markdown",
   "metadata": {},
   "source": []
  },
  {
   "attachments": {},
   "cell_type": "markdown",
   "metadata": {},
   "source": [
    "## 06. Mini-batches\n"
   ]
  },
  {
   "attachments": {},
   "cell_type": "markdown",
   "metadata": {},
   "source": [
    "## 07. Creating DataLoaders\n",
    "- Currently, data is in the form of PyTorch Datasets\n",
    "- DataLoader: turns dataset into a Python iterable\n",
    "\n",
    "**Creating Batches**\n",
    "1. allows the cpu to store smaller batches (vs full)\n",
    "   - computationally efficient\n",
    "   - common batch size = 32\n",
    "2. gives NN more chances to update its gradient per epoch\n",
    "\n",
    "**Steps**\n",
    "1. `torchvision.datasets.FashionMNIST`\n",
    "2. `torch.utils.data.DataLoader`\n",
    "   - `DataLoader(dataset, batch_size, shuffle=True)`\n"
   ]
  },
  {
   "cell_type": "code",
   "execution_count": 117,
   "metadata": {},
   "outputs": [
    {
     "name": "stdout",
     "output_type": "stream",
     "text": [
      "Length: 1875 | 313\n",
      "torch.Size([32, 1, 28, 28]), torch.Size([32])\n",
      "Image size: torch.Size([1, 28, 28])\n"
     ]
    },
    {
     "data": {
      "image/png": "[encoded data removed]",
      "text/plain": [
       "<Figure size 640x480 with 1 Axes>"
      ]
     },
     "metadata": {},
     "output_type": "display_data"
    }
   ],
   "source": [
    "from torch.utils.data import DataLoader\n",
    "\n",
    "# Setup batch size hyperparameter\n",
    "BATCH_SIZE = 32\n",
    "\n",
    "# Turn datasets into iterables (batches)\n",
    "train_dataloader = DataLoader(dataset=train_data,\n",
    "                    batch_size=BATCH_SIZE,\n",
    "                    shuffle=True)\n",
    "\n",
    "test_dataloader = DataLoader(dataset=test_data,\n",
    "                    batch_size=BATCH_SIZE,\n",
    "                    shuffle=True)\n",
    "\n",
    "# Visualize\n",
    "print(f\"Length: {len(train_dataloader)} | {len(test_dataloader)}\")\n",
    "\n",
    "train_features_batch, train_labels_batch = next(iter(train_dataloader))\n",
    "print(f\"{train_features_batch.shape}, {train_labels_batch.shape}\")\n",
    "\n",
    "torch.manual_seed(42)\n",
    "random_idx = torch.randint(0, len(train_features_batch), size=[1]).item()\n",
    "img, label = train_features_batch[random_idx], train_labels_batch[random_idx]\n",
    "plt.imshow(img.squeeze(), cmap=\"gray\")\n",
    "plt.title(class_names[label])\n",
    "plt.axis(False)\n",
    "print(f\"Image size: {img.shape}\")"
   ]
  },
  {
   "attachments": {},
   "cell_type": "markdown",
   "metadata": {},
   "source": [
    "Building a **baseline** model is a best practice, starting with a simple model and add complexity from there."
   ]
  },
  {
   "cell_type": "code",
   "execution_count": 118,
   "metadata": {},
   "outputs": [
    {
     "name": "stdout",
     "output_type": "stream",
     "text": [
      "torch.Size([1, 28, 28])\n",
      "torch.Size([1, 784])\n"
     ]
    }
   ],
   "source": [
    "# Create a flatten layer\n",
    "flatten_model = nn.Flatten()\n",
    "\n",
    "x = train_features_batch[0]\n",
    "print(f\"{x.shape}\")\n",
    "\n",
    "output = flatten_model(x)\n",
    "print(f\"{output.shape}\")"
   ]
  },
  {
   "cell_type": "code",
   "execution_count": 119,
   "metadata": {},
   "outputs": [],
   "source": [
    "# Define base model\n",
    "from torch import nn\n",
    "class FashionMNISTModelV0(nn.Module):\n",
    "    def __init__(self, input_shape:int, hidden_units:int, output_shape:int):\n",
    "        super().__init__()\n",
    "        self.layer_stack = nn.Sequential(\n",
    "            nn.Flatten(),\n",
    "            nn.Linear(in_features=input_shape, out_features=hidden_units),\n",
    "            nn.Linear(in_features=hidden_units, out_features=output_shape)\n",
    "        )\n",
    "\n",
    "    def forward(self, x):\n",
    "        return self.layer_stack(x)"
   ]
  },
  {
   "cell_type": "code",
   "execution_count": 120,
   "metadata": {},
   "outputs": [
    {
     "data": {
      "text/plain": [
       "torch.Size([1, 10])"
      ]
     },
     "execution_count": 120,
     "metadata": {},
     "output_type": "execute_result"
    }
   ],
   "source": [
    "# Create base model instance\n",
    "torch.manual_seed(42)\n",
    "\n",
    "model_0 = FashionMNISTModelV0(\n",
    "    input_shape=28*28,\n",
    "    hidden_units=10,\n",
    "    output_shape=len(class_names)\n",
    ")\n",
    "\n",
    "dummy_x = torch.rand([1,1,28,28])\n",
    "model_0(dummy_x).shape"
   ]
  },
  {
   "cell_type": "code",
   "execution_count": 121,
   "metadata": {},
   "outputs": [
    {
     "name": "stdout",
     "output_type": "stream",
     "text": [
      "File exists.\n"
     ]
    }
   ],
   "source": [
    "# Import external file\n",
    "import requests\n",
    "from pathlib import Path\n",
    "\n",
    "if Path('helper_functions.py').is_file():\n",
    "  print('File exists.')\n",
    "else:\n",
    "  print('Downloading file...')\n",
    "  request = requests.get('https://raw.githubusercontent.com/mrdbourke/pytorch-deep-learning/main/helper_functions.py')\n",
    "  with open('helper_functions.py', 'wb') as f:\n",
    "    f.write(request.content)\n"
   ]
  },
  {
   "attachments": {},
   "cell_type": "markdown",
   "metadata": {},
   "source": [
    "**Typical Evaluation Metrics**\n",
    "- model performance (loss and accuracy)\n",
    "- how fast it runs"
   ]
  },
  {
   "cell_type": "code",
   "execution_count": 122,
   "metadata": {},
   "outputs": [],
   "source": [
    "# Setup loss, optimizer, and eval metrics\n",
    "from helper_functions import accuracy_fn\n",
    "\n",
    "loss_fn_v0 = nn.CrossEntropyLoss()\n",
    "optimizer_v0 = torch.optim.SGD(params=model_0.parameters(), lr=0.1)"
   ]
  },
  {
   "cell_type": "code",
   "execution_count": 123,
   "metadata": {},
   "outputs": [
    {
     "name": "stdout",
     "output_type": "stream",
     "text": [
      "Train time: 0.000 seconds\n"
     ]
    },
    {
     "data": {
      "text/plain": [
       "1.2400007108226418e-05"
      ]
     },
     "execution_count": 123,
     "metadata": {},
     "output_type": "execute_result"
    }
   ],
   "source": [
    "# Setup timer metric\n",
    "from timeit import default_timer as timer\n",
    "def print_train_time(start:float, end:float, device:torch.device=None):\n",
    "  total_time = end - start\n",
    "  print(f\"Train time: {total_time:.3f} seconds\")\n",
    "  return total_time\n",
    "\n",
    "start_time = timer()\n",
    "end_time = timer()\n",
    "print_train_time(start=start_time, end=end_time)"
   ]
  },
  {
   "attachments": {},
   "cell_type": "markdown",
   "metadata": {},
   "source": [
    "## 08. Training and testing loops for batched data\n",
    "Creating a training loop\n",
    "- loop through epochs\n",
    "- loop through training batches\n",
    "- loop through testing batches\n",
    "- print out what's happening"
   ]
  },
  {
   "cell_type": "code",
   "execution_count": 124,
   "metadata": {},
   "outputs": [
    {
     "name": "stderr",
     "output_type": "stream",
     "text": [
      "  0%|          | 0/3 [00:00<?, ?it/s]"
     ]
    },
    {
     "name": "stdout",
     "output_type": "stream",
     "text": [
      "Epoch: 0\n",
      "Looked at 0/60000 samples.\n",
      "Looked at 12800/60000 samples.\n",
      "Looked at 25600/60000 samples.\n",
      "Looked at 38400/60000 samples.\n",
      "Looked at 51200/60000 samples.\n"
     ]
    },
    {
     "name": "stderr",
     "output_type": "stream",
     "text": [
      " 33%|███▎      | 1/3 [00:07<00:14,  7.35s/it]"
     ]
    },
    {
     "name": "stdout",
     "output_type": "stream",
     "text": [
      "\n",
      "Train loss: 0.5904 | Test loss: 0.5102, test acc: 82.0387\n",
      "Epoch: 1\n",
      "Looked at 0/60000 samples.\n",
      "Looked at 12800/60000 samples.\n",
      "Looked at 25600/60000 samples.\n",
      "Looked at 38400/60000 samples.\n",
      "Looked at 51200/60000 samples.\n"
     ]
    },
    {
     "name": "stderr",
     "output_type": "stream",
     "text": [
      " 67%|██████▋   | 2/3 [00:14<00:07,  7.18s/it]"
     ]
    },
    {
     "name": "stdout",
     "output_type": "stream",
     "text": [
      "\n",
      "Train loss: 0.4743 | Test loss: 0.5268, test acc: 81.6793\n",
      "Epoch: 2\n",
      "Looked at 0/60000 samples.\n",
      "Looked at 12800/60000 samples.\n",
      "Looked at 25600/60000 samples.\n",
      "Looked at 38400/60000 samples.\n",
      "Looked at 51200/60000 samples.\n"
     ]
    },
    {
     "name": "stderr",
     "output_type": "stream",
     "text": [
      "100%|██████████| 3/3 [00:21<00:00,  7.29s/it]"
     ]
    },
    {
     "name": "stdout",
     "output_type": "stream",
     "text": [
      "\n",
      "Train loss: 0.4537 | Test loss: 0.5126, test acc: 82.9972\n",
      "Train time: 21.862 seconds\n"
     ]
    },
    {
     "name": "stderr",
     "output_type": "stream",
     "text": [
      "\n"
     ]
    }
   ],
   "source": [
    "# Import tqdm for progress bar\n",
    "from tqdm.auto import tqdm\n",
    "torch.manual_seed(42)\n",
    "train_time_start = timer()\n",
    "\n",
    "epochs = 3 \n",
    "\n",
    "# Create train & test loop\n",
    "for epoch in tqdm(range(epochs)):\n",
    "  print(f\"Epoch: {epoch}\")\n",
    "\n",
    "  ### TRAINING\n",
    "  train_loss = 0\n",
    "  ## NOTE: model parameters are updated per batch\n",
    "  for batch, (X, y) in enumerate(train_dataloader):\n",
    "    model_0.train()\n",
    "    # 1. Forward pass\n",
    "    y_pred = model_0(X)\n",
    "    # 2. Calculate the loss\n",
    "    loss = loss_fn_v0(y_pred, y)\n",
    "    train_loss += loss # to be averaged per batch\n",
    "    # 3. Optimizer zero grad\n",
    "    optimizer_v0.zero_grad()\n",
    "    # 4. Loss backward\n",
    "    loss.backward()\n",
    "    # 5. Optimizer step\n",
    "    optimizer_v0.step()\n",
    "\n",
    "    if batch % 400 == 0:\n",
    "      print(f\"Looked at {batch * len(X)}/{len(train_dataloader.dataset)} samples.\")\n",
    "\n",
    "  train_loss /= len(train_dataloader)\n",
    "\n",
    "  ### TESTING\n",
    "  test_loss, test_acc = 0, 0\n",
    "  model_0.eval()\n",
    "  with torch.inference_mode():\n",
    "    for X_test, y_test in test_dataloader:\n",
    "      # 1. Forward pass\n",
    "      test_pred = model_0(X_test)\n",
    "      # 2. Calc loss\n",
    "      test_loss += loss_fn_v0(test_pred, y_test)\n",
    "      # 3. Calc accuracy\n",
    "      test_acc += accuracy_fn(y_true=y_test, y_pred=test_pred.argmax(dim=1))\n",
    "\n",
    "    test_loss /= len(test_dataloader)\n",
    "    test_acc /= len(test_dataloader)\n",
    "\n",
    "  print(f\"\\nTrain loss: {train_loss:.4f} | Test loss: {test_loss:.4f}, test acc: {test_acc:.4f}\")\n",
    "\n",
    "train_time_end = timer()\n",
    "total_train_time_model_0 = print_train_time(start=train_time_start, end=train_time_end)"
   ]
  },
  {
   "cell_type": "code",
   "execution_count": 125,
   "metadata": {},
   "outputs": [
    {
     "data": {
      "text/plain": [
       "{'model_name': 'FashionMNISTModelV0',\n",
       " 'model_loss': 0.5119837522506714,\n",
       " 'model_acc': 83.02715654952077}"
      ]
     },
     "execution_count": 125,
     "metadata": {},
     "output_type": "execute_result"
    }
   ],
   "source": [
    "# Make predictions\n",
    "torch.manual_seed(42)\n",
    "def eval_model(model: torch.nn.Module, data_loader: torch.utils.data.DataLoader, loss_fn: torch.nn.Module, accuracy_fn):\n",
    "  loss, acc = 0, 0\n",
    "  model.eval()\n",
    "  with torch.inference_mode():\n",
    "    for X, y in data_loader:\n",
    "        # Make predictions\n",
    "        y_pred = model(X)\n",
    "\n",
    "        loss += loss_fn(y_pred, y)\n",
    "        acc += accuracy_fn(y_true=y, y_pred=y_pred.argmax(dim=1))\n",
    "    \n",
    "    loss /= len(data_loader)\n",
    "    acc /= len(data_loader)\n",
    "\n",
    "  return {\"model_name\": model.__class__.__name__,\n",
    "          \"model_loss\": loss.item(),\n",
    "          \"model_acc\": acc,\n",
    "          }\n",
    "\n",
    "# Calculate model 0 results on test dataset\n",
    "model_0_results = eval_model(model_0, data_loader=test_dataloader, loss_fn=loss_fn_v0, accuracy_fn=accuracy_fn)\n",
    "model_0_results"
   ]
  },
  {
   "attachments": {},
   "cell_type": "markdown",
   "metadata": {},
   "source": [
    "## 09. Running experiments on the GPU"
   ]
  },
  {
   "cell_type": "code",
   "execution_count": 126,
   "metadata": {},
   "outputs": [],
   "source": [
    "import torch\n",
    "device = \"cuda\" if torch.cuda.is_available() else \"cpu\""
   ]
  },
  {
   "cell_type": "markdown",
   "metadata": {},
   "source": [
    "## 10. Creating a model with non-linear functions\n"
   ]
  },
  {
   "cell_type": "code",
   "execution_count": 127,
   "metadata": {},
   "outputs": [],
   "source": [
    "# Define base model\n",
    "from torch import nn\n",
    "from torch import utils\n",
    "\n",
    "class FashionMNISTModelV1(nn.Module):\n",
    "    def __init__(self, input_shape:int, hidden_units:int, output_shape:int):\n",
    "        super().__init__()\n",
    "        self.layer_stack = nn.Sequential(\n",
    "            nn.Flatten(),\n",
    "            nn.Linear(in_features=input_shape, out_features=hidden_units),\n",
    "            nn.ReLU(),\n",
    "            nn.Linear(in_features=hidden_units, out_features=output_shape),\n",
    "            nn.ReLU(),\n",
    "\n",
    "        )\n",
    "\n",
    "    def forward(self, x):\n",
    "        return self.layer_stack(x)"
   ]
  },
  {
   "cell_type": "code",
   "execution_count": 128,
   "metadata": {},
   "outputs": [],
   "source": [
    "# Create instance of model_1\n",
    "torch.manual_seed(42)\n",
    "model_1 = FashionMNISTModelV1(input_shape=28*28, hidden_units=10, output_shape=len(class_names))\n",
    "\n",
    "# Create loss function and optimizer\n",
    "lossfn_1 = nn.CrossEntropyLoss()\n",
    "optimizer_1 = torch.optim.SGD(params=model_1.parameters(), lr=0.1)"
   ]
  },
  {
   "attachments": {},
   "cell_type": "markdown",
   "metadata": {},
   "source": [
    "## 11. Creating a train/test loop\n",
    "Create a function for training and testing"
   ]
  },
  {
   "attachments": {},
   "cell_type": "markdown",
   "metadata": {},
   "source": [
    "### Creating reusable functions"
   ]
  },
  {
   "cell_type": "code",
   "execution_count": 129,
   "metadata": {},
   "outputs": [],
   "source": [
    "### TRAIN STEP\n",
    "def train_step(\n",
    "  model: torch.nn.Module,\n",
    "  data_loader: DataLoader,\n",
    "  loss_fn:  torch.nn.Module,\n",
    "  optimizer: torch.optim.Optimizer,\n",
    "  accuracy_fn, \n",
    "  device: torch.device = \"cpu\"\n",
    "  ):\n",
    "  \n",
    "  train_loss, train_acc = 0, 0\n",
    "\n",
    "  ## NOTE: model parameters are updated per batch\n",
    "  for batch, (X, y) in enumerate(data_loader):\n",
    "    model.train()\n",
    "    # 1. Forward pass\n",
    "    y_pred = model(X)\n",
    "    # 2. Calculate the loss\n",
    "    loss = loss_fn(y_pred, y)\n",
    "    train_loss += loss # to be averaged per batch\n",
    "    # train_acc += accuracy_fn(y_true=y, y_pred=y_pred)\n",
    "    # 3. Optimizer zero grad\n",
    "    optimizer.zero_grad()\n",
    "    # 4. Loss backward\n",
    "    loss.backward()\n",
    "    # 5. Optimizer step\n",
    "    optimizer.step()\n",
    "\n",
    "    if batch % 400 == 0:\n",
    "      print(f\"Looked at {batch * len(X)}/{len(data_loader.dataset)} samples.\")\n",
    "\n",
    "  train_loss /= len(data_loader)\n",
    "  train_acc /= len(data_loader)\n",
    "  print(f\"Train loss: {train_loss:.5f} | Train acc: {train_acc:.2f}\")\n",
    "\n",
    "### TEST STEP\n",
    "def test_step(\n",
    "  model: torch.nn.Module,\n",
    "  data_loader: DataLoader,\n",
    "  loss_fn:  torch.nn.Module,\n",
    "  accuracy_fn, \n",
    "  device: torch.device = \"cpu\",\n",
    "  ):\n",
    "  \n",
    "  test_loss, test_acc = 0, 0\n",
    "  model.eval()\n",
    "  with torch.inference_mode():  # Turn on inference mode context manager\n",
    "    for X_test, y_test in data_loader:\n",
    "      # 1. Forward pass\n",
    "      test_pred = model(X_test)\n",
    "      # 2. Calc loss\n",
    "      test_loss += loss_fn(test_pred, y_test)\n",
    "      # 3. Calc accuracy\n",
    "      test_acc += accuracy_fn(y_true=y_test, y_pred=test_pred.argmax(dim=1))\n",
    "\n",
    "    test_loss /= len(data_loader)\n",
    "    test_acc /= len(data_loader)\n",
    "\n",
    "  print(f\"\\nTest loss: {test_loss:.5f} | Test acc: {test_acc:.4f}\")"
   ]
  },
  {
   "attachments": {},
   "cell_type": "markdown",
   "metadata": {},
   "source": [
    "### Training and Testing the model"
   ]
  },
  {
   "cell_type": "code",
   "execution_count": 130,
   "metadata": {},
   "outputs": [
    {
     "data": {
      "text/plain": [
       "32"
      ]
     },
     "execution_count": 130,
     "metadata": {},
     "output_type": "execute_result"
    }
   ],
   "source": [
    "train_dataloader.__sizeof__()"
   ]
  },
  {
   "cell_type": "code",
   "execution_count": 131,
   "metadata": {},
   "outputs": [
    {
     "name": "stderr",
     "output_type": "stream",
     "text": [
      "  0%|          | 0/3 [00:00<?, ?it/s]"
     ]
    },
    {
     "name": "stdout",
     "output_type": "stream",
     "text": [
      "Epoch: 0\n",
      "Looked at 0/60000 samples.\n",
      "Looked at 12800/60000 samples.\n",
      "Looked at 25600/60000 samples.\n",
      "Looked at 38400/60000 samples.\n",
      "Looked at 51200/60000 samples.\n",
      "Train loss: 1.09199 | Train acc: 0.00\n"
     ]
    },
    {
     "name": "stderr",
     "output_type": "stream",
     "text": [
      " 33%|███▎      | 1/3 [00:07<00:14,  7.43s/it]"
     ]
    },
    {
     "name": "stdout",
     "output_type": "stream",
     "text": [
      "\n",
      "Test loss: 0.95690 | Test acc: 64.9760\n",
      "Epoch: 1\n",
      "Looked at 0/60000 samples.\n",
      "Looked at 12800/60000 samples.\n",
      "Looked at 25600/60000 samples.\n",
      "Looked at 38400/60000 samples.\n",
      "Looked at 51200/60000 samples.\n",
      "Train loss: 0.73779 | Train acc: 0.00\n"
     ]
    },
    {
     "name": "stderr",
     "output_type": "stream",
     "text": [
      " 67%|██████▋   | 2/3 [00:15<00:07,  7.54s/it]"
     ]
    },
    {
     "name": "stdout",
     "output_type": "stream",
     "text": [
      "\n",
      "Test loss: 0.72388 | Test acc: 74.2113\n",
      "Epoch: 2\n",
      "Looked at 0/60000 samples.\n",
      "Looked at 12800/60000 samples.\n",
      "Looked at 25600/60000 samples.\n",
      "Looked at 38400/60000 samples.\n",
      "Looked at 51200/60000 samples.\n",
      "Train loss: 0.66776 | Train acc: 0.00\n"
     ]
    },
    {
     "name": "stderr",
     "output_type": "stream",
     "text": [
      "100%|██████████| 3/3 [00:22<00:00,  7.49s/it]"
     ]
    },
    {
     "name": "stdout",
     "output_type": "stream",
     "text": [
      "\n",
      "Test loss: 0.68751 | Test acc: 75.6390\n",
      "Train time: 22.466 seconds\n"
     ]
    },
    {
     "name": "stderr",
     "output_type": "stream",
     "text": [
      "\n"
     ]
    }
   ],
   "source": [
    "from tqdm.auto import tqdm\n",
    "from timeit import default_timer as timer\n",
    "\n",
    "torch.manual_seed(42)\n",
    "\n",
    "train_time_start = timer()\n",
    "\n",
    "epochs = 3\n",
    "\n",
    "for epoch in tqdm(range(epochs)):\n",
    "  print(f\"Epoch: {epoch}\")\n",
    "  train_step(model=model_1,\n",
    "             data_loader=train_dataloader,\n",
    "             loss_fn=lossfn_1,\n",
    "             optimizer=optimizer_1,\n",
    "             accuracy_fn=accuracy_fn\n",
    "             )\n",
    "  test_step(model=model_1,\n",
    "            data_loader=test_dataloader,\n",
    "            loss_fn=lossfn_1,\n",
    "            accuracy_fn=accuracy_fn\n",
    "            )\n",
    "  \n",
    "train_time_end = timer()\n",
    "total_train_time = print_train_time(start=train_time_start, end=train_time_end)"
   ]
  },
  {
   "cell_type": "code",
   "execution_count": 132,
   "metadata": {},
   "outputs": [
    {
     "name": "stdout",
     "output_type": "stream",
     "text": [
      "{'model_name': 'FashionMNISTModelV0', 'model_loss': 0.5119837522506714, 'model_acc': 83.02715654952077}\n",
      "{'model_name': 'FashionMNISTModelV1', 'model_loss': 0.6879838705062866, 'model_acc': 75.62899361022365}\n"
     ]
    }
   ],
   "source": [
    "# Get model_1 results dictionary\n",
    "model_1_results = eval_model(model=model_1,\n",
    "                             data_loader=test_dataloader,\n",
    "                             loss_fn=lossfn_1,\n",
    "                             accuracy_fn=accuracy_fn,\n",
    "                             )\n",
    "\n",
    "print(model_0_results)\n",
    "print(model_1_results)\n"
   ]
  },
  {
   "attachments": {},
   "cell_type": "markdown",
   "metadata": {},
   "source": [
    "## 12. Convolutional neural networks (overview)\n",
    "- known for capabilities for finding patterns in visual data\n",
    "- Structure\n",
    "  - convolutional layer\n",
    "  - ReLU\n",
    "  - Pooling\n",
    "- Architecture\n",
    "  - CNN blocks\n",
    "  - Classifier Layer\n",
    "https://poloclub.github.io/cnn-explainer/"
   ]
  },
  {
   "cell_type": "markdown",
   "metadata": {},
   "source": [
    "## 13. Coding a CNN\n"
   ]
  },
  {
   "cell_type": "code",
   "execution_count": 133,
   "metadata": {},
   "outputs": [],
   "source": [
    "# Create a CNN\n",
    "class FashionMNISTModelV2(nn.Module):\n",
    "  \"\"\"\n",
    "  Model architecture replicayting TinyVGG\n",
    "  \"\"\"\n",
    "  def __init__(self, input_shape:int, hidden_units:int, output_shape:int):\n",
    "    super().__init__()\n",
    "    self.conv_block_1 = nn.Sequential(\n",
    "      nn.Conv2d(in_channels=input_shape, out_channels=hidden_units, kernel_size=3, stride=1, padding=1),\n",
    "      nn.ReLU(),\n",
    "      nn.Conv2d(in_channels=hidden_units, out_channels=hidden_units, kernel_size=3, stride=1, padding=1),\n",
    "      nn.ReLU(),\n",
    "      nn.MaxPool2d(kernel_size=2)      \n",
    "    )    \n",
    "    self.conv_block_2 = nn.Sequential(\n",
    "      nn.Conv2d(in_channels=hidden_units, out_channels=hidden_units, kernel_size=3, stride=1, padding=1),\n",
    "      nn.ReLU(),\n",
    "      nn.Conv2d(in_channels=hidden_units, out_channels=output_shape, kernel_size=3, stride=1, padding=1),\n",
    "      nn.ReLU(),\n",
    "      nn.MaxPool2d(kernel_size=2)      \n",
    "    )\n",
    "    self.classifier = nn.Sequential(\n",
    "      nn.Flatten(),\n",
    "      nn.Linear(in_features=hidden_units*7*7, out_features=output_shape)\n",
    "      # Note: you can check the shape of the output layers by running it with a print\n",
    "    )    \n",
    "\n",
    "  def forward(self, x):\n",
    "    return self.classifier(self.conv_block_2(self.conv_block_1(x)))"
   ]
  },
  {
   "attachments": {},
   "cell_type": "markdown",
   "metadata": {},
   "source": [
    "### Stepping througn `nn.COnv2d()`\n"
   ]
  },
  {
   "cell_type": "markdown",
   "metadata": {},
   "source": [
    "## 14. Breaking down nn.Conv2d/nn.MaxPool2d\n"
   ]
  },
  {
   "cell_type": "code",
   "execution_count": 134,
   "metadata": {},
   "outputs": [
    {
     "name": "stdout",
     "output_type": "stream",
     "text": [
      "0: torch.Size([3, 64, 64])\n",
      "1: torch.Size([1, 3, 64, 64])\n",
      "2: torch.Size([1, 10, 62, 62])\n",
      "3: torch.Size([1, 10, 31, 31])\n"
     ]
    }
   ],
   "source": [
    "### CHECK EFFECT OF EACH LAYER TO SHAPE\n",
    "\n",
    "torch.manual_seed(42)\n",
    "\n",
    "# Create a batch of image\n",
    "images = torch.randn(size=(32,3,64,64))\n",
    "test_image = images[0]\n",
    "\n",
    "conv_layer = nn.Conv2d(in_channels=3, out_channels=10, kernel_size=(3, 3), stride=1, padding=0)\n",
    "pool_layer = nn.MaxPool2d(kernel_size=2)\n",
    "\n",
    "print(f\"0: {test_image.shape}\")\n",
    "print(f\"1: {test_image.unsqueeze(0).shape}\")\n",
    "\n",
    "test_image_thorugh_conv = conv_layer(test_image.unsqueeze(0))\n",
    "print(f\"2: {test_image_thorugh_conv.shape}\")\n",
    "\n",
    "test_image_final = pool_layer(test_image_thorugh_conv)\n",
    "print(f\"3: {test_image_final.shape}\")"
   ]
  },
  {
   "cell_type": "code",
   "execution_count": 135,
   "metadata": {},
   "outputs": [
    {
     "name": "stdout",
     "output_type": "stream",
     "text": [
      "0: tensor([[[[ 0.8651,  0.0284],\n",
      "          [ 0.5256, -0.3633]]]])\n",
      "0: torch.Size([1, 1, 2, 2])\n",
      "1: tensor([[[[0.8651]]]])\n",
      "1: torch.Size([1, 1, 1, 1])\n"
     ]
    }
   ],
   "source": [
    "### CHECK WHAT THE MAX POOL LAYER DO\n",
    "### (Finds the max value from a kernel)\n",
    "\n",
    "torch.manual_seed(32)\n",
    "random_tensor = torch.randn(size=(1,1,2,2))\n",
    "\n",
    "pool_layer = nn.MaxPool2d(kernel_size=2)\n",
    "pool_tensor = pool_layer(random_tensor)\n",
    "\n",
    "print(f\"0: {random_tensor}\")\n",
    "print(f\"0: {random_tensor.shape}\")\n",
    "print(f\"1: {pool_tensor}\")\n",
    "print(f\"1: {pool_tensor.shape}\")"
   ]
  },
  {
   "cell_type": "code",
   "execution_count": 136,
   "metadata": {},
   "outputs": [],
   "source": [
    "model_2 = FashionMNISTModelV2(input_shape=1, hidden_units=10, output_shape=len(class_names))"
   ]
  },
  {
   "cell_type": "markdown",
   "metadata": {},
   "source": [
    "## 15. Training our first CNN\n"
   ]
  },
  {
   "cell_type": "code",
   "execution_count": 137,
   "metadata": {},
   "outputs": [
    {
     "name": "stderr",
     "output_type": "stream",
     "text": [
      "  0%|          | 0/3 [00:00<?, ?it/s]"
     ]
    },
    {
     "name": "stdout",
     "output_type": "stream",
     "text": [
      "Epoch: 0\n",
      "Looked at 0/60000 samples.\n",
      "Looked at 12800/60000 samples.\n",
      "Looked at 25600/60000 samples.\n",
      "Looked at 38400/60000 samples.\n",
      "Looked at 51200/60000 samples.\n",
      "Train loss: 2.30365 | Train acc: 0.00\n"
     ]
    },
    {
     "name": "stderr",
     "output_type": "stream",
     "text": [
      " 33%|███▎      | 1/3 [00:22<00:45, 22.57s/it]"
     ]
    },
    {
     "name": "stdout",
     "output_type": "stream",
     "text": [
      "\n",
      "Test loss: 2.30368 | Test acc: 10.1937\n",
      "Epoch: 1\n",
      "Looked at 0/60000 samples.\n",
      "Looked at 12800/60000 samples.\n",
      "Looked at 25600/60000 samples.\n",
      "Looked at 38400/60000 samples.\n",
      "Looked at 51200/60000 samples.\n",
      "Train loss: 2.30365 | Train acc: 0.00\n"
     ]
    },
    {
     "name": "stderr",
     "output_type": "stream",
     "text": [
      " 67%|██████▋   | 2/3 [00:43<00:21, 21.72s/it]"
     ]
    },
    {
     "name": "stdout",
     "output_type": "stream",
     "text": [
      "\n",
      "Test loss: 2.30366 | Test acc: 10.2037\n",
      "Epoch: 2\n",
      "Looked at 0/60000 samples.\n",
      "Looked at 12800/60000 samples.\n",
      "Looked at 25600/60000 samples.\n",
      "Looked at 38400/60000 samples.\n",
      "Looked at 51200/60000 samples.\n",
      "Train loss: 2.30365 | Train acc: 0.00\n"
     ]
    },
    {
     "name": "stderr",
     "output_type": "stream",
     "text": [
      "100%|██████████| 3/3 [01:04<00:00, 21.65s/it]"
     ]
    },
    {
     "name": "stdout",
     "output_type": "stream",
     "text": [
      "\n",
      "Test loss: 2.30367 | Test acc: 10.1837\n",
      "Train time: 64.950 seconds\n"
     ]
    },
    {
     "name": "stderr",
     "output_type": "stream",
     "text": [
      "\n"
     ]
    }
   ],
   "source": [
    "torch.manual_seed(42)\n",
    "\n",
    "from timeit import default_timer as timer\n",
    "train_time_start = timer()\n",
    "\n",
    "epochs = 3\n",
    "\n",
    "for epoch in tqdm(range(epochs)):\n",
    "  print(f\"Epoch: {epoch}\")\n",
    "  train_step(model=model_2,\n",
    "             data_loader=train_dataloader,\n",
    "             loss_fn=lossfn_1,\n",
    "             optimizer=optimizer_1,\n",
    "             accuracy_fn=accuracy_fn\n",
    "             )\n",
    "  test_step(model=model_2,\n",
    "          data_loader=test_dataloader,\n",
    "          loss_fn=lossfn_1,\n",
    "          accuracy_fn=accuracy_fn\n",
    "          )\n",
    "  \n",
    "train_time_end = timer()\n",
    "total_train_time_model_2 = print_train_time(start=train_time_start, end=train_time_end)"
   ]
  },
  {
   "cell_type": "code",
   "execution_count": 138,
   "metadata": {},
   "outputs": [
    {
     "data": {
      "text/plain": [
       "{'model_name': 'FashionMNISTModelV2',\n",
       " 'model_loss': 2.3036932945251465,\n",
       " 'model_acc': 10.20367412140575}"
      ]
     },
     "execution_count": 138,
     "metadata": {},
     "output_type": "execute_result"
    }
   ],
   "source": [
    "# Get model_2 results\n",
    "model_2_results = eval_model(\n",
    "  model=model_2,\n",
    "  data_loader=test_dataloader,\n",
    "  loss_fn=lossfn_1,\n",
    "  accuracy_fn=accuracy_fn\n",
    ")\n",
    "\n",
    "model_2_results"
   ]
  },
  {
   "cell_type": "code",
   "execution_count": 139,
   "metadata": {},
   "outputs": [
    {
     "data": {
      "text/html": [
       "<div>\n",
       "<style scoped>\n",
       "    .dataframe tbody tr th:only-of-type {\n",
       "        vertical-align: middle;\n",
       "    }\n",
       "\n",
       "    .dataframe tbody tr th {\n",
       "        vertical-align: top;\n",
       "    }\n",
       "\n",
       "    .dataframe thead th {\n",
       "        text-align: right;\n",
       "    }\n",
       "</style>\n",
       "<table border=\"1\" class=\"dataframe\">\n",
       "  <thead>\n",
       "    <tr style=\"text-align: right;\">\n",
       "      <th></th>\n",
       "      <th>model_name</th>\n",
       "      <th>model_loss</th>\n",
       "      <th>model_acc</th>\n",
       "    </tr>\n",
       "  </thead>\n",
       "  <tbody>\n",
       "    <tr>\n",
       "      <th>0</th>\n",
       "      <td>FashionMNISTModelV0</td>\n",
       "      <td>0.511984</td>\n",
       "      <td>83.027157</td>\n",
       "    </tr>\n",
       "    <tr>\n",
       "      <th>1</th>\n",
       "      <td>FashionMNISTModelV1</td>\n",
       "      <td>0.687984</td>\n",
       "      <td>75.628994</td>\n",
       "    </tr>\n",
       "    <tr>\n",
       "      <th>2</th>\n",
       "      <td>FashionMNISTModelV2</td>\n",
       "      <td>2.303693</td>\n",
       "      <td>10.203674</td>\n",
       "    </tr>\n",
       "  </tbody>\n",
       "</table>\n",
       "</div>"
      ],
      "text/plain": [
       "            model_name  model_loss  model_acc\n",
       "0  FashionMNISTModelV0    0.511984  83.027157\n",
       "1  FashionMNISTModelV1    0.687984  75.628994\n",
       "2  FashionMNISTModelV2    2.303693  10.203674"
      ]
     },
     "execution_count": 139,
     "metadata": {},
     "output_type": "execute_result"
    }
   ],
   "source": [
    "import pandas as pd\n",
    "compare_results = pd.DataFrame([model_0_results, model_1_results, model_2_results])\n",
    "compare_results"
   ]
  },
  {
   "cell_type": "code",
   "execution_count": 140,
   "metadata": {},
   "outputs": [
    {
     "data": {
      "text/html": [
       "<div>\n",
       "<style scoped>\n",
       "    .dataframe tbody tr th:only-of-type {\n",
       "        vertical-align: middle;\n",
       "    }\n",
       "\n",
       "    .dataframe tbody tr th {\n",
       "        vertical-align: top;\n",
       "    }\n",
       "\n",
       "    .dataframe thead th {\n",
       "        text-align: right;\n",
       "    }\n",
       "</style>\n",
       "<table border=\"1\" class=\"dataframe\">\n",
       "  <thead>\n",
       "    <tr style=\"text-align: right;\">\n",
       "      <th></th>\n",
       "      <th>model_name</th>\n",
       "      <th>model_loss</th>\n",
       "      <th>model_acc</th>\n",
       "      <th>training_time</th>\n",
       "    </tr>\n",
       "  </thead>\n",
       "  <tbody>\n",
       "    <tr>\n",
       "      <th>0</th>\n",
       "      <td>FashionMNISTModelV0</td>\n",
       "      <td>0.511984</td>\n",
       "      <td>83.027157</td>\n",
       "      <td>21.861962</td>\n",
       "    </tr>\n",
       "    <tr>\n",
       "      <th>1</th>\n",
       "      <td>FashionMNISTModelV1</td>\n",
       "      <td>0.687984</td>\n",
       "      <td>75.628994</td>\n",
       "      <td>22.465609</td>\n",
       "    </tr>\n",
       "    <tr>\n",
       "      <th>2</th>\n",
       "      <td>FashionMNISTModelV2</td>\n",
       "      <td>2.303693</td>\n",
       "      <td>10.203674</td>\n",
       "      <td>64.950424</td>\n",
       "    </tr>\n",
       "  </tbody>\n",
       "</table>\n",
       "</div>"
      ],
      "text/plain": [
       "            model_name  model_loss  model_acc  training_time\n",
       "0  FashionMNISTModelV0    0.511984  83.027157      21.861962\n",
       "1  FashionMNISTModelV1    0.687984  75.628994      22.465609\n",
       "2  FashionMNISTModelV2    2.303693  10.203674      64.950424"
      ]
     },
     "execution_count": 140,
     "metadata": {},
     "output_type": "execute_result"
    }
   ],
   "source": [
    "# Add training time to results comparison\n",
    "compare_results[\"training_time\"] = [total_train_time_model_0, total_train_time, total_train_time_model_2]\n",
    "compare_results"
   ]
  },
  {
   "attachments": {},
   "cell_type": "markdown",
   "metadata": {},
   "source": [
    "## 16. Making predictions on random test samples\n",
    "\n",
    "Make and evaluate random predictions with best model"
   ]
  },
  {
   "cell_type": "code",
   "execution_count": 147,
   "metadata": {},
   "outputs": [],
   "source": [
    "def make_predictions(model: torch.nn.Module, \n",
    "                     data: list):\n",
    "  pred_probs = []\n",
    "  model.eval()\n",
    "  with torch.inference_mode():\n",
    "    for sample in data:\n",
    "      # Prepare the sample (add a batch dimension and pass to target device)\n",
    "      sample = torch.unsqueeze(sample, dim=0).to(device)\n",
    "\n",
    "      # Forward pass (model output raw logits)\n",
    "      pred_logit = model(sample)\n",
    "\n",
    "      # Get prediction probability (logit -> pred probs)\n",
    "      pred_prob = torch.softmax(pred_logit.squeeze(), dim=0)\n",
    "\n",
    "      pred_probs.append(pred_prob)\n",
    "\n",
    "  return torch.stack(pred_probs)"
   ]
  },
  {
   "cell_type": "code",
   "execution_count": 151,
   "metadata": {},
   "outputs": [
    {
     "data": {
      "text/plain": [
       "Text(0.5, 1.0, 'Ankle boot')"
      ]
     },
     "execution_count": 151,
     "metadata": {},
     "output_type": "execute_result"
    },
    {
     "data": {
      "image/png": "[encoded data removed]",
      "text/plain": [
       "<Figure size 640x480 with 1 Axes>"
      ]
     },
     "metadata": {},
     "output_type": "display_data"
    }
   ],
   "source": [
    "import random\n",
    "random.seed(42)\n",
    "test_samples = []\n",
    "test_labels = []\n",
    "for sample, label in random.sample(list(test_data), k=9):\n",
    "  test_samples.append(sample)\n",
    "  test_labels.append(label)\n",
    "\n",
    "plt.imshow(test_samples[0].squeeze(), cmap=\"gray\")\n",
    "plt.title(class_names[test_labels[0]])\n"
   ]
  },
  {
   "cell_type": "code",
   "execution_count": 155,
   "metadata": {},
   "outputs": [
    {
     "name": "stdout",
     "output_type": "stream",
     "text": [
      "tensor([[3.3763e-02, 3.3763e-02, 3.3763e-02, 3.3763e-02, 3.3763e-02, 3.3763e-02,\n",
      "         3.3763e-02, 4.5424e-02, 6.0273e-02, 6.5797e-01],\n",
      "        [2.3459e-06, 2.3459e-06, 2.3459e-06, 2.3459e-06, 2.3459e-06, 2.9575e-04,\n",
      "         2.3459e-06, 9.9145e-01, 1.2081e-04, 8.1146e-03]])\n",
      "tensor([9, 7, 2, 0, 1, 0, 0, 9, 4])\n"
     ]
    }
   ],
   "source": [
    "# Make predictions\n",
    "pred_probs = make_predictions(model=model_1,\n",
    "                              data=test_samples\n",
    ")\n",
    "\n",
    "print(pred_probs[:2])\n",
    "\n",
    "# Convert pred probs to labels\n",
    "pred_classes = pred_probs.argmax(dim=1)\n",
    "print(pred_classes)"
   ]
  },
  {
   "cell_type": "markdown",
   "metadata": {},
   "source": [
    "## 17. Plotting our best model predictions\n"
   ]
  },
  {
   "cell_type": "code",
   "execution_count": 156,
   "metadata": {},
   "outputs": [
    {
     "data": {
      "image/png": "[encoded data removed]",
      "text/plain": [
       "<Figure size 900x900 with 9 Axes>"
      ]
     },
     "metadata": {},
     "output_type": "display_data"
    }
   ],
   "source": [
    "# Plot predictions\n",
    "plt.figure(figsize=(9,9))\n",
    "nrows = 3\n",
    "ncols = 3\n",
    "for i, sample in enumerate(test_samples):\n",
    "  # Create subplot\n",
    "  plt.subplot(nrows, ncols, i+1)\n",
    "  # Plot the target image\n",
    "  plt.imshow(sample.squeeze(), cmap=\"gray\")\n",
    "  # Find the prediction\n",
    "  pred_label = class_names[pred_classes[i]]\n",
    "  # Get the truth label\n",
    "  truth_label = class_names[test_labels[i]]\n",
    "\n",
    "  #Create a title\n",
    "  title_text = f\"Pred: {pred_label} | Truth: {truth_label}\"\n",
    "  if pred_label == truth_label:\n",
    "    plt.title(title_text, fontsize=10, c=\"g\")\n",
    "  else:\n",
    "    plt.title(title_text, fontsize=10, c=\"r\")\n",
    "\n",
    "  plt.axis(False)"
   ]
  },
  {
   "attachments": {},
   "cell_type": "markdown",
   "metadata": {},
   "source": [
    "## 18. Evaluating model predictions with a confusion matrix\n",
    "\n",
    "Evaluates classification models visually\n",
    "1. Make predictions with our trained model on the test dataset\n",
    "2. Make a confusion matrix `torchmetrics.ConfusionMatrix`\n",
    "3. Plot the confusion matrix using `mlxtend.plotting.plot_confusion_matrix()`"
   ]
  },
  {
   "cell_type": "code",
   "execution_count": 157,
   "metadata": {},
   "outputs": [
    {
     "name": "stderr",
     "output_type": "stream",
     "text": [
      "Making predictions: 100%|██████████| 313/313 [00:01<00:00, 168.73it/s]\n"
     ]
    }
   ],
   "source": [
    "from tqdm.auto import tqdm\n",
    "\n",
    "y_preds = []\n",
    "model_2.eval()\n",
    "with torch.inference_mode():\n",
    "  for X, y in tqdm(test_dataloader, desc=\"Making predictions\"):\n",
    "    y_logit = model_2(X)\n",
    "    y_pred = torch.softmax(y_logit.squeeze(),dim=0).argmax(dim=1)\n",
    "    y_preds.append(y_pred)\n",
    "\n",
    "## Making a confusion matrix\n",
    "\n",
    "import mlxtend\n",
    "\n",
    "\n"
   ]
  },
  {
   "attachments": {},
   "cell_type": "markdown",
   "metadata": {},
   "source": [
    "[Link](https://www.youtube.com/watch?v=Z_ikDlimN6A&t=69546s)"
   ]
  }
 ],
 "metadata": {
  "kernelspec": {
   "display_name": ".venv",
   "language": "python",
   "name": "python3"
  },
  "language_info": {
   "codemirror_mode": {
    "name": "ipython",
    "version": 3
   },
   "file_extension": ".py",
   "mimetype": "text/x-python",
   "name": "python",
   "nbconvert_exporter": "python",
   "pygments_lexer": "ipython3",
   "version": "3.8.10"
  },
  "orig_nbformat": 4
 },
 "nbformat": 4,
 "nbformat_minor": 2
}
