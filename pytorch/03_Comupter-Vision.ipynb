{
 "cells": [
  {
   "attachments": {},
   "cell_type": "markdown",
   "metadata": {},
   "source": [
    "# PyTorch Computer Vision & CNN\n",
    "#coding/python #coding/deeplearning\n",
    "\n",
    "**References**\n",
    "- [YT: Learn PyTorch for Deep Learing](https://youtu.be/Z_ikDlimN6A?t=50419)\n",
    "- [LearnPyTorch.io](https://www.learnpytorch.io/03_pytorch_computer_vision/)"
   ]
  },
  {
   "attachments": {},
   "cell_type": "markdown",
   "metadata": {},
   "source": [
    "## 01. Introduction to computer vision\n",
    "**Potential Applications**\n",
    "- BCC - dog or cat?\n",
    "- MCC - what kind of food?\n",
    "- object detection\n",
    "- segmentation\n",
    "\n",
    "**Outline**\n",
    "- getting vision dataset using `torchvision.datasets`\n",
    "- architecture of CNN\n",
    "- E2E multi-class image classification\n",
    "- steps in modeling with CNN\n",
    "  - create CNN model\n",
    "  - pick loss & optimizer\n",
    "  - train a model\n",
    "  - evaluate a model"
   ]
  },
  {
   "attachments": {},
   "cell_type": "markdown",
   "metadata": {},
   "source": [
    "## 02. Computer vision input and outputs\n",
    "- CNN usually used in image data\n",
    "\n",
    "**Method**\n",
    "- numerically represent images as tensors\n",
    "  - (NHWC): color channels last\n",
    "  - (NCHW): color channels first\n",
    "- feed into ML algorithm\n",
    "- probabilites\n",
    "\n",
    "**Steps**\n",
    "1. Data Preperation\n",
    "  - `torchvision.transforms`\n",
    "  - `torch.utils.data.Dataset`\n",
    "  - `torch.utils.data.DataLoader`\n",
    "2. Build Model\n",
    "  - `torch.nn`\n",
    "  - `torch.nn.Module`\n",
    "  - `torchvision.models`\n",
    "3. Loss Fn & Optimizer\n",
    "  - `torch.optim`\n",
    "4. Evaluate Model\n",
    "  - `torchmetrics`\n",
    "5. Improve via Experimentation\n",
    "  - `torch.utils.tensorboard`"
   ]
  },
  {
   "attachments": {},
   "cell_type": "markdown",
   "metadata": {},
   "source": [
    "## 03. What is a convolutional neural network?\n",
    "**Architecture**\n",
    "- input image\n",
    "  - target image\n",
    "- input layer\n",
    "  - processed target image\n",
    "  - `input_shape = [batch_size, ht, wd, color_channels]`\n",
    "- convolution layer\n",
    "  - extracts/learns features from target image\n",
    "  - `torch.nn.ConvXd()`\n",
    "- hidden activation/non-linear activation\n",
    "  - adds non-linearity\n",
    "  - usually `torch.nn.ReLU()`\n",
    "- pooling layer\n",
    "  - reduces dimensionality of learned features\n",
    "  - usually `torch.nn.MaxPool2d()`\n",
    "- output layer/linear layer\n",
    "  - takes learned features and outputs into shape of target label\n",
    "  - `torch.nn.Linear(out_features=[output-shape])\n",
    "- output activation\n",
    "  - convert output logits into prediction probabilities\n"
   ]
  },
  {
   "attachments": {},
   "cell_type": "markdown",
   "metadata": {},
   "source": [
    "## 04. TorchVision\n",
    "**Computer Vision libraries**\n",
    "- `torchvision`\n",
    "- `torchvision.datasets`\n",
    "- `torchvision.models`\n",
    "- `torchvision.transforms`\n",
    "- `torch.utils.data.Dataset`\n",
    "- `torch.utils.data.DataLoader`"
   ]
  },
  {
   "cell_type": "code",
   "execution_count": 1,
   "metadata": {},
   "outputs": [],
   "source": [
    "# Import Libraries\n",
    "import torch\n",
    "from torch import nn\n",
    "\n",
    "import torchvision\n",
    "from torchvision import datasets\n",
    "from torchvision import transforms\n",
    "from torchvision.transforms import ToTensor\n",
    "\n",
    "import matplotlib.pyplot as plt\n"
   ]
  },
  {
   "cell_type": "markdown",
   "metadata": {},
   "source": [
    "## 05. Getting a computer vision dataset\n"
   ]
  },
  {
   "attachments": {},
   "cell_type": "markdown",
   "metadata": {},
   "source": [
    "## 06. Mini-batches\n"
   ]
  },
  {
   "cell_type": "markdown",
   "metadata": {},
   "source": [
    "## 07. Creating DataLoaders\n"
   ]
  },
  {
   "cell_type": "markdown",
   "metadata": {},
   "source": [
    "## 08. Training and testing loops for batched data\n"
   ]
  },
  {
   "cell_type": "markdown",
   "metadata": {},
   "source": [
    "## 09. Running experiments on the GPU\n"
   ]
  },
  {
   "cell_type": "markdown",
   "metadata": {},
   "source": [
    "## 10. Creating a model with non-linear functions\n"
   ]
  },
  {
   "cell_type": "markdown",
   "metadata": {},
   "source": [
    "## 11. Creating a train/test loop\n"
   ]
  },
  {
   "cell_type": "markdown",
   "metadata": {},
   "source": [
    "## 12. Convolutional neural networks (overview)\n"
   ]
  },
  {
   "cell_type": "markdown",
   "metadata": {},
   "source": [
    "## 13. Coding a CNN\n"
   ]
  },
  {
   "cell_type": "markdown",
   "metadata": {},
   "source": [
    "## 14. Breaking down nn.Conv2d/nn.MaxPool2d\n"
   ]
  },
  {
   "cell_type": "markdown",
   "metadata": {},
   "source": [
    "## 15. Training our first CNN\n"
   ]
  },
  {
   "cell_type": "markdown",
   "metadata": {},
   "source": [
    "## 16. Making predictions on random test samples\n"
   ]
  },
  {
   "cell_type": "markdown",
   "metadata": {},
   "source": [
    "## 17. Plotting our best model predictions\n"
   ]
  },
  {
   "cell_type": "markdown",
   "metadata": {},
   "source": [
    "## 18. Evaluating model predictions with a confusion matrix"
   ]
  }
 ],
 "metadata": {
  "kernelspec": {
   "display_name": ".venv",
   "language": "python",
   "name": "python3"
  },
  "language_info": {
   "codemirror_mode": {
    "name": "ipython",
    "version": 3
   },
   "file_extension": ".py",
   "mimetype": "text/x-python",
   "name": "python",
   "nbconvert_exporter": "python",
   "pygments_lexer": "ipython3",
   "version": "3.9.6"
  },
  "orig_nbformat": 4
 },
 "nbformat": 4,
 "nbformat_minor": 2
}
